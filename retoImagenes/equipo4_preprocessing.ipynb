{
  "cells": [
    {
      "cell_type": "markdown",
      "metadata": {
        "id": "SdzJ2KUDFtzO"
      },
      "source": [
        "# Obtenemos los datos"
      ]
    },
    {
      "cell_type": "markdown",
      "source": [
        "Aquí descargamos los datos desde kaggle. Desde kaggle descargamos un token con los permisos de la api de kaggle. Al momento de iniciar solamente subimos el token a nuestros archivos en colab, asignamos el directorio y usamos unas funciones de kaggle para descargar el dataset de la competición, posteriormente solo le hacemos un unzip a las carpetas con las imagenes para tenerlas descomprimidas y poder trabajar con ellas."
      ],
      "metadata": {
        "id": "mqLhyedu08HD"
      }
    },
    {
      "cell_type": "code",
      "execution_count": null,
      "metadata": {
        "colab": {
          "base_uri": "https://localhost:8080/"
        },
        "id": "6q16LKn_8Nkq",
        "outputId": "a1071274-fe4e-47a2-d6ab-5b293bdee412"
      },
      "outputs": [
        {
          "output_type": "stream",
          "name": "stdout",
          "text": [
            "Mounted at /content/drive\n",
            "/content\n",
            "/content\n"
          ]
        }
      ],
      "source": [
        "from google.colab import drive\n",
        "drive.mount('/content/drive')\n",
        "\n",
        "%cd \"/content/\"\n",
        "!pwd"
      ]
    },
    {
      "cell_type": "code",
      "execution_count": null,
      "metadata": {
        "id": "w0JGwOkPz6He"
      },
      "outputs": [],
      "source": [
        "! mkdir ~/.kaggle"
      ]
    },
    {
      "cell_type": "code",
      "execution_count": null,
      "metadata": {
        "id": "BdNG4qBoz7ts"
      },
      "outputs": [],
      "source": [
        "! cp kaggle.json ~/.kaggle/"
      ]
    },
    {
      "cell_type": "code",
      "execution_count": null,
      "metadata": {
        "id": "7_ABhyE-z9ts"
      },
      "outputs": [],
      "source": [
        "! chmod 600 ~/.kaggle/kaggle.json"
      ]
    },
    {
      "cell_type": "code",
      "execution_count": null,
      "metadata": {
        "colab": {
          "base_uri": "https://localhost:8080/"
        },
        "id": "iw4s0xYG0Faw",
        "outputId": "97ff763e-13a9-43a9-8931-4f45b618a342"
      },
      "outputs": [
        {
          "output_type": "stream",
          "name": "stdout",
          "text": [
            "Downloading hotel-id-to-combat-human-trafficking-2022-fgvc9.zip to /content\n",
            "100% 14.0G/14.0G [02:12<00:00, 131MB/s]\n",
            "100% 14.0G/14.0G [02:13<00:00, 113MB/s]\n"
          ]
        }
      ],
      "source": [
        "! kaggle competitions download hotel-id-to-combat-human-trafficking-2022-fgvc9"
      ]
    },
    {
      "cell_type": "code",
      "execution_count": null,
      "metadata": {
        "id": "CchYAYbJ1UWu"
      },
      "outputs": [],
      "source": [
        "! unzip -q hotel-id-to-combat-human-trafficking-2022-fgvc9 "
      ]
    },
    {
      "cell_type": "markdown",
      "source": [
        "Importamos las librerías que son necesarias para el preprocesamiento de los datos que se desean realizar."
      ],
      "metadata": {
        "id": "OuWbhBfy16OK"
      }
    },
    {
      "cell_type": "code",
      "execution_count": null,
      "metadata": {
        "id": "rPjOhOLB8d2E"
      },
      "outputs": [],
      "source": [
        "import matplotlib.pyplot as plt\n",
        "import numpy as np\n",
        "import os\n",
        "from time import time\n",
        "\n",
        "import shutil\n",
        "from shutil import move\n",
        "from random import sample\n",
        "import tensorflow as tf\n",
        "\n",
        "from keras.preprocessing.image import ImageDataGenerator\n",
        "from keras.preprocessing import image\n",
        "from random import sample"
      ]
    },
    {
      "cell_type": "markdown",
      "source": [
        "Seleccionamos los directorios y podemos ver que se tienen 3116 carpetas, es decir, de nuestro set de datos hay 3116 clases."
      ],
      "metadata": {
        "id": "dIRSLdK12Ea3"
      }
    },
    {
      "cell_type": "code",
      "execution_count": null,
      "metadata": {
        "id": "8D7Puv1oC6Y5",
        "colab": {
          "base_uri": "https://localhost:8080/"
        },
        "outputId": "fbd06d43-348f-484f-de7d-4e4fd3189211"
      },
      "outputs": [
        {
          "output_type": "stream",
          "name": "stdout",
          "text": [
            "3116\n"
          ]
        }
      ],
      "source": [
        "base_dir = '/content/'\n",
        "train_dir = os.path.join(base_dir,'train_images')\n",
        "chain_names = os.listdir(train_dir)\n",
        "\n",
        "print(len(chain_names))\n"
      ]
    },
    {
      "cell_type": "markdown",
      "metadata": {
        "id": "6dwzbjbLF6xk"
      },
      "source": [
        "Usamos una función que nos permite crear un folder."
      ]
    },
    {
      "cell_type": "code",
      "execution_count": null,
      "metadata": {
        "id": "P4Q1oPzVMHZV"
      },
      "outputs": [],
      "source": [
        "def createFolder(directory):\n",
        "    try:\n",
        "        if not os.path.exists(directory):\n",
        "            os.makedirs(directory)\n",
        "    except OSError:\n",
        "        print ('Error: Creating directory. ' +  directory)"
      ]
    },
    {
      "cell_type": "markdown",
      "metadata": {
        "id": "-mZc9eSASW17"
      },
      "source": [
        "## Seleccionamos las carpetas que tengan más de 30 imagenes"
      ]
    },
    {
      "cell_type": "code",
      "execution_count": null,
      "metadata": {
        "id": "hNVXzmh2GAtJ"
      },
      "outputs": [],
      "source": [
        "validation_data_dir = os.path.join(base_dir, 'test_images')\n",
        "masks_dir = os.path.join(base_dir, 'train_masks')"
      ]
    },
    {
      "cell_type": "markdown",
      "source": [
        "A continuación filtramos todas las categorías a solo aquellas que contengan más de 30 imagenes. Todas aquellas con 30 o menos consideramos que no tienen información suficiente y, para obtener un mejor resultado de los modelos, decidimos no utilizarlas."
      ],
      "metadata": {
        "id": "H7_DT2592nc2"
      }
    },
    {
      "cell_type": "code",
      "execution_count": null,
      "metadata": {
        "id": "xGniiAtsIOXS",
        "colab": {
          "base_uri": "https://localhost:8080/"
        },
        "outputId": "d9b97183-a649-418f-c4cf-76a547019b62"
      },
      "outputs": [
        {
          "output_type": "stream",
          "name": "stdout",
          "text": [
            "Tenemos en total:  174  conjuntos\n",
            "Con un total de  13833  imagenes\n",
            "Siendo el 30.94% de las imagenes totales\n"
          ]
        }
      ],
      "source": [
        "from os import listdir\n",
        "from os.path import isfile, join\n",
        "from random import sample\n",
        "min_len = 30\n",
        "train_set = [i for i in listdir(train_dir) if len(listdir(os.path.join(train_dir, i))) > min_len]\n",
        "train_len = [len(listdir(os.path.join(train_dir, i)))for i in listdir(train_dir) if len(listdir(os.path.join(train_dir, i))) > min_len]\n",
        "print('Tenemos en total: ', len(train_set), ' conjuntos')\n",
        "print('Con un total de ', sum(train_len), ' imagenes')\n",
        "print('Siendo el {:.2f}% de las imagenes totales'.format(sum(train_len)/sum([len(listdir(os.path.join(train_dir, i))) for i in listdir(train_dir)])*100))\n"
      ]
    },
    {
      "cell_type": "code",
      "execution_count": null,
      "metadata": {
        "id": "FWcAfdovLQMq"
      },
      "outputs": [],
      "source": [
        "train_datagen = ImageDataGenerator(rescale=1/255,\n",
        "                                   rotation_range=40,\n",
        "                                   width_shift_range=0.2,\n",
        "                                   height_shift_range=0.2,\n",
        "                                   shear_range=0.2,\n",
        "                                   zoom_range=0.2,\n",
        "                                   horizontal_flip=True,\n",
        "                                   fill_mode='nearest')"
      ]
    },
    {
      "cell_type": "code",
      "execution_count": null,
      "metadata": {
        "id": "WQRtXv5hTiW4"
      },
      "outputs": [],
      "source": [
        "final_train = os.path.join(base_dir, 'final_train')"
      ]
    },
    {
      "cell_type": "code",
      "execution_count": null,
      "metadata": {
        "id": "LWx03dHrTn3N",
        "colab": {
          "base_uri": "https://localhost:8080/",
          "height": 35
        },
        "outputId": "c491e21a-8576-45d1-c383-ceba0ff76b53"
      },
      "outputs": [
        {
          "output_type": "execute_result",
          "data": {
            "text/plain": [
              "'/content/final_train'"
            ],
            "application/vnd.google.colaboratory.intrinsic+json": {
              "type": "string"
            }
          },
          "metadata": {},
          "execution_count": 17
        }
      ],
      "source": [
        "final_train"
      ]
    },
    {
      "cell_type": "code",
      "execution_count": null,
      "metadata": {
        "id": "WxXaf9s_MJbY"
      },
      "outputs": [],
      "source": [
        "createFolder('final_train')"
      ]
    },
    {
      "cell_type": "markdown",
      "source": [
        "Aquí usamos el nuevo folder 'final_train' en el cual hacemos unas copias de las carpetas que cumplen con el filtro anterior, además también tenemos la opción de hacer que si una carpeta tiene k+1 imagenes o más, se hace un submuestreo aleatorio de k imagenes de entre todas ellas. Al final decidimos no utilizar esto y trabajar con el desbalanceo de otra manera, pero la opción sigue ahí."
      ],
      "metadata": {
        "id": "0gElKFIA3I-m"
      }
    },
    {
      "cell_type": "code",
      "execution_count": null,
      "metadata": {
        "id": "UMnvlNXoVGh0"
      },
      "outputs": [],
      "source": [
        "for folder in train_set:\n",
        "    path = os.path.join(train_dir, folder)\n",
        "    new_path = os.path.join(final_train, folder)\n",
        "    os.mkdir(new_path)\n",
        "    images = [f for f in os.listdir(path)]\n",
        "    # cancelamos lo siguiente para que no haga muestreo de las imagenes\n",
        "    '''if len(images)>=90:\n",
        "      images = sample(images, k=90)'''\n",
        "    for image in images:\n",
        "      shutil.copy(os.path.join(path, image), new_path)"
      ]
    },
    {
      "cell_type": "code",
      "source": [
        "classes = len(train_set)"
      ],
      "metadata": {
        "id": "zP1TQSjgctoe"
      },
      "execution_count": null,
      "outputs": []
    },
    {
      "cell_type": "code",
      "execution_count": null,
      "metadata": {
        "id": "1mEcWvJpD-4I",
        "colab": {
          "base_uri": "https://localhost:8080/"
        },
        "outputId": "41f7ab93-2227-4d9d-f5bc-1a3762030e6f"
      },
      "outputs": [
        {
          "output_type": "stream",
          "name": "stdout",
          "text": [
            "Found 13833 images belonging to 174 classes.\n"
          ]
        }
      ],
      "source": [
        "#probar batch hasta el 30% de las clases\n",
        "train_generator = train_datagen.flow_from_directory(\n",
        "    final_train,\n",
        "    target_size=(150, 150),\n",
        "    batch_size=int(classes*0.35),\n",
        "    class_mode='categorical',\n",
        "    color_mode = 'rgb',\n",
        "    shuffle = True\n",
        ")"
      ]
    },
    {
      "cell_type": "code",
      "execution_count": null,
      "metadata": {
        "id": "FvfSRzh9dTOW"
      },
      "outputs": [],
      "source": [
        "final_train_len = [len(listdir(os.path.join(final_train, i)))for i in listdir(final_train)]"
      ]
    },
    {
      "cell_type": "markdown",
      "metadata": {
        "id": "FBJ3WOouS0EV"
      },
      "source": [
        "### Validation"
      ]
    },
    {
      "cell_type": "markdown",
      "source": [
        "En esta parte generamos el conjunto de validación. Para poder hacerlo simplemente hacemos un submuestreo del 15% de las imagenes de cada clase y las copiamos en la carpeta nueva 'validation', esta se utilizara como validación al entrenar la red."
      ],
      "metadata": {
        "id": "eI9Hq-os4DhZ"
      }
    },
    {
      "cell_type": "code",
      "execution_count": null,
      "metadata": {
        "id": "oF2aCZRgTDej"
      },
      "outputs": [],
      "source": [
        "createFolder('validation')"
      ]
    },
    {
      "cell_type": "code",
      "execution_count": null,
      "metadata": {
        "id": "uDjlJ9MufcYs"
      },
      "outputs": [],
      "source": [
        "validation_dir = os.path.join('/content/validation')"
      ]
    },
    {
      "cell_type": "code",
      "execution_count": null,
      "metadata": {
        "id": "ugC4wkZMSzA1"
      },
      "outputs": [],
      "source": [
        "proportion = 0.15\n",
        "\n",
        "for folder in os.listdir(final_train):\n",
        "    path = os.path.join(final_train, folder)\n",
        "    new_path = os.path.join(validation_dir, folder)\n",
        "    os.mkdir(new_path)\n",
        "    images = [f for f in os.listdir(path)]\n",
        "    images = sample(images, k=int(proportion*len(images))) \n",
        "    for image in images:\n",
        "        shutil.copy(os.path.join(path, image), new_path)"
      ]
    },
    {
      "cell_type": "code",
      "execution_count": null,
      "metadata": {
        "id": "qBgl_ieBeTZz"
      },
      "outputs": [],
      "source": [
        "#shutil.rmtree(validation_dir)"
      ]
    },
    {
      "cell_type": "code",
      "execution_count": null,
      "metadata": {
        "id": "0SbQgnd8TJQv",
        "colab": {
          "base_uri": "https://localhost:8080/"
        },
        "outputId": "c4543cf3-f403-41f1-f26c-0eb5245d8b91"
      },
      "outputs": [
        {
          "output_type": "stream",
          "name": "stdout",
          "text": [
            "Found 1990 images belonging to 174 classes.\n"
          ]
        }
      ],
      "source": [
        "validation_datagen = ImageDataGenerator(rescale=1/255,\n",
        "                                   rotation_range=40,\n",
        "                                   width_shift_range=0.2,\n",
        "                                   height_shift_range=0.2,\n",
        "                                   shear_range=0.2,\n",
        "                                   zoom_range=0.2,\n",
        "                                   horizontal_flip=True,\n",
        "                                   fill_mode='nearest')\n",
        "\n",
        "validation_generator = validation_datagen.flow_from_directory(\n",
        "\t\t\t\t\t\t\t\t\t\t\t\t\t\t\t\t\t\t\t\t\t\t\t\t\t\tvalidation_dir,\n",
        "                                                    target_size=(150, 150),\n",
        "                                                    batch_size=int(classes*0.35),\n",
        "                                                    class_mode='categorical',\n",
        "                                                    color_mode = 'rgb',\n",
        "                                                    shuffle = True)"
      ]
    },
    {
      "cell_type": "markdown",
      "source": [
        "Finalmente hacemos zip a las dos carpetas anteriores, lo cual nos permitira descargarlas y entrenar la red localmente. Esto debido a que nos dimos cuenta que de forma local, el sobremuestreo que haremos después se hace mucho más rápido."
      ],
      "metadata": {
        "id": "hu-H52W_4hC1"
      }
    },
    {
      "cell_type": "code",
      "source": [
        "!zip -r -q /content/final_train.zip /content/final_train"
      ],
      "metadata": {
        "id": "Gc7spjsOtQ5D"
      },
      "execution_count": null,
      "outputs": []
    },
    {
      "cell_type": "code",
      "source": [
        "  !zip -r -q /content/validation.zip /content/validation"
      ],
      "metadata": {
        "id": "_IC3k8c6IP_L"
      },
      "execution_count": null,
      "outputs": []
    },
    {
      "cell_type": "code",
      "source": [
        "from google.colab import auth\n",
        "from googleapiclient.http import MediaFileUpload\n",
        "from googleapiclient.discovery import build\n",
        "\n",
        "auth.authenticate_user()"
      ],
      "metadata": {
        "id": "B8n14owFNIgt"
      },
      "execution_count": null,
      "outputs": []
    },
    {
      "cell_type": "code",
      "source": [
        "drive_service = build('drive', 'v3')\n",
        "\n",
        "def save_file_to_drive(name, path):\n",
        "    file_metadata = {\n",
        "      'name': name,\n",
        "      'mimeType': 'application/octet-stream'\n",
        "     }\n",
        "\n",
        "    media = MediaFileUpload(path, mimetype='application/octet-stream', resumable=True)\n",
        "\n",
        "    created = drive_service.files().create(body=file_metadata,\n",
        "                                   media_body=media,\n",
        "                                   fields='id').execute()\n",
        "\n",
        "    print('File ID: {}'.format(created.get('id')))\n",
        "\n",
        "    return created"
      ],
      "metadata": {
        "id": "TsukPLzUNNjJ"
      },
      "execution_count": null,
      "outputs": []
    }
  ],
  "metadata": {
    "colab": {
      "provenance": []
    },
    "gpuClass": "standard",
    "kernelspec": {
      "display_name": "Python 3",
      "name": "python3"
    },
    "language_info": {
      "name": "python"
    }
  },
  "nbformat": 4,
  "nbformat_minor": 0
}