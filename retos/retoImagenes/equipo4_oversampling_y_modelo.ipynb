{
 "cells": [
  {
   "cell_type": "markdown",
   "metadata": {},
   "source": [
    "# Importamos las librerías necesarias"
   ]
  },
  {
   "cell_type": "code",
   "execution_count": 3,
   "metadata": {},
   "outputs": [],
   "source": [
    "import numpy as np\n",
    "import matplotlib.pyplot as plt\n",
    "import os\n",
    "from time import time\n",
    "\n",
    "from shutil import move\n",
    "from random import sample\n",
    "import tensorflow as tf\n",
    "\n",
    "from keras.preprocessing.image import ImageDataGenerator\n",
    "from keras.preprocessing import image\n",
    "from random import sample\n",
    "import shutil\n",
    "import keras.metrics\n",
    "from keras import models\n",
    "from keras.models import Sequential\n",
    "from keras.layers import Dense, Flatten, Conv2D, MaxPooling2D\n",
    "from keras import optimizers\n",
    "from keras.applications.vgg19 import VGG19\n",
    "from tqdm.keras import TqdmCallback\n",
    "from IPython.display import SVG\n",
    "from keras.utils.vis_utils import model_to_dot\n",
    "from tensorflow.keras.utils import plot_model\n",
    "import math\n",
    "from IPython.display import clear_output\n"
   ]
  },
  {
   "cell_type": "markdown",
   "metadata": {},
   "source": [
    "### Obtenemos las carpetas de entrenamiento y validación"
   ]
  },
  {
   "cell_type": "markdown",
   "metadata": {},
   "source": [
    "Ya habiendo descargado las carpetas que generamos en la notebook anterior, solamente las cargamos en esta notebook."
   ]
  },
  {
   "cell_type": "code",
   "execution_count": 4,
   "metadata": {},
   "outputs": [],
   "source": [
    "validation_dir = 'validation'\n",
    "final_train = 'final_train'\n",
    "classes = len(os.listdir(final_train))"
   ]
  },
  {
   "cell_type": "markdown",
   "metadata": {},
   "source": [
    "Función para hacer el sobremuestreo. Adaptación del código proporcionado por el profesor Daniel Otero Fadul"
   ]
  },
  {
   "cell_type": "code",
   "execution_count": 5,
   "metadata": {},
   "outputs": [],
   "source": [
    "def Crear_Imgs(target_number,train_dir,clase, max_imgs):\n",
    "\n",
    "  temp_dir = os.path.join(train_dir, clase)\n",
    "\n",
    "  img_names = [os.path.join(temp_dir, name) for name in os.listdir(temp_dir)]\n",
    "  remainder = sample(img_names, k=target_number % len(img_names))   \n",
    "  target_per_img = target_number // len(img_names) - 1\n",
    "  i, j, k = 0, 0, 0\n",
    "\n",
    "  for img_path in img_names:\n",
    "      img = tf.keras.preprocessing.image.load_img(img_path)\n",
    "      img_array = tf.keras.preprocessing.image.img_to_array(img)\n",
    "      img_array = img_array.reshape((1,) + img_array.shape)\n",
    "      if len(os.listdir(temp_dir)) > max_imgs:\n",
    "          break\n",
    "      for batch in train_datagen.flow(img_array, batch_size=1):\n",
    "          temp = tf.keras.preprocessing.image.array_to_img(batch[0])\n",
    "          zeros = 9 - len(str(i + 1))\n",
    "          name = zeros * '0' + str(i + 1)\n",
    "          name = os.path.join(temp_dir, name + '.jpg')\n",
    "          temp.save(name)\n",
    "          i += 1\n",
    "          if img_path in remainder:\n",
    "              j += 1\n",
    "              if j == (target_per_img + 1):\n",
    "                  j = 0\n",
    "                  break\n",
    "          elif img_path not in remainder:\n",
    "              k += 1\n",
    "              if k == target_per_img:\n",
    "                  k = 0\n",
    "                  break\n",
    "          if len(os.listdir(temp_dir)) > max_imgs:\n",
    "              break\n",
    "      if len(os.listdir(temp_dir)) > max_imgs:\n",
    "          break            \n",
    "                \n",
    "              "
   ]
  },
  {
   "cell_type": "code",
   "execution_count": 6,
   "metadata": {},
   "outputs": [
    {
     "name": "stdout",
     "output_type": "stream",
     "text": [
      "90\n",
      "El  0.0 % de las clases tienen menos de 90 imagenes\n"
     ]
    }
   ],
   "source": [
    "final_train_len = [len(os.listdir(os.path.join(final_train, i)))for i in os.listdir(final_train)]\n",
    "max_cant = 90\n",
    "print(max_cant)\n",
    "count = sum(map(lambda x : x < max_cant, final_train_len))\n",
    "print(\"El \" , round(count/len(final_train_len)*100,3), \"% de las clases tienen menos de 90 imagenes\")"
   ]
  },
  {
   "cell_type": "code",
   "execution_count": 7,
   "metadata": {},
   "outputs": [],
   "source": [
    "train_set = [i for i in os.listdir(final_train)]"
   ]
  },
  {
   "cell_type": "markdown",
   "metadata": {},
   "source": [
    "Realizamos el sobremuestreo para todas las carpetas, además hacemos que el límite del sobremuestreo sea de 90 imagenes. Es decir, si una carpeta tiene menos de 90 imagenes, se hace el sobremuestreo hasta que tenga por lo menos 90 imagenes."
   ]
  },
  {
   "cell_type": "code",
   "execution_count": 8,
   "metadata": {},
   "outputs": [],
   "source": [
    "for idx,folder in enumerate(train_set):\n",
    "    print(round(idx/len(train_set)*100,2) ,'% (', idx ,') de avance en la carpeta ' ,str(folder))\n",
    "    while len(os.listdir(os.path.join(final_train,folder))) < max_cant:\n",
    "        Crear_Imgs(2,final_train, folder, max_cant)\n",
    "    clear_output(wait=False)\n"
   ]
  },
  {
   "cell_type": "markdown",
   "metadata": {},
   "source": [
    "Selecionamos los datagens de el conjunto de entrenamiento y el de validación"
   ]
  },
  {
   "cell_type": "code",
   "execution_count": 9,
   "metadata": {},
   "outputs": [
    {
     "name": "stdout",
     "output_type": "stream",
     "text": [
      "Found 21217 images belonging to 174 classes.\n",
      "Found 1990 images belonging to 174 classes.\n"
     ]
    }
   ],
   "source": [
    "train_datagen = ImageDataGenerator(rescale=1/255,\n",
    "                                   rotation_range=40,\n",
    "                                   width_shift_range=0.2,\n",
    "                                   height_shift_range=0.2,\n",
    "                                   shear_range=0.2,\n",
    "                                   zoom_range=0.2,\n",
    "                                   horizontal_flip=True,\n",
    "                                   fill_mode='nearest')\n",
    "\n",
    "validation_datagen= ImageDataGenerator(rescale = 1/255)\n",
    "\n",
    "train_generator = train_datagen.flow_from_directory(final_train,\n",
    "                                                target_size=(150, 150),\n",
    "                                                batch_size=int(classes*0.35),\n",
    "                                                class_mode='categorical',\n",
    "                                                color_mode = 'rgb',\n",
    "                                                shuffle = True\n",
    ")\n",
    "\n",
    "validation_generator = validation_datagen.flow_from_directory(validation_dir,\n",
    "                                                    target_size=(150, 150),\n",
    "                                                    batch_size=int(classes*0.35),\n",
    "                                                    class_mode='categorical',\n",
    "                                                    color_mode = 'rgb',\n",
    "                                                    shuffle = True)"
   ]
  },
  {
   "cell_type": "code",
   "execution_count": 10,
   "metadata": {},
   "outputs": [
    {
     "data": {
      "text/plain": [
       "91"
      ]
     },
     "execution_count": 10,
     "metadata": {},
     "output_type": "execute_result"
    }
   ],
   "source": [
    "len(os.listdir(os.path.join(final_train,'27279')))"
   ]
  },
  {
   "cell_type": "markdown",
   "metadata": {},
   "source": [
    "### Usando transfer learning, usamos la parte convolucional de la red VGG19 que es parte de Keras"
   ]
  },
  {
   "cell_type": "markdown",
   "metadata": {},
   "source": [
    "Usamos transfer learning, importamos la arquitectura ya entrenada de una red convolucional que se encuentra dentro de Keras. Nos sirve que la red sea ya entrenada, puesto que en teoría se tarda menos en encontrar filtros que se adapten bien a nuestro conjunto de entrenamiento."
   ]
  },
  {
   "cell_type": "code",
   "execution_count": 11,
   "metadata": {},
   "outputs": [
    {
     "name": "stdout",
     "output_type": "stream",
     "text": [
      "Model: \"vgg19\"\n",
      "_________________________________________________________________\n",
      " Layer (type)                Output Shape              Param #   \n",
      "=================================================================\n",
      " input_1 (InputLayer)        [(None, 150, 150, 3)]     0         \n",
      "                                                                 \n",
      " block1_conv1 (Conv2D)       (None, 150, 150, 64)      1792      \n",
      "                                                                 \n",
      " block1_conv2 (Conv2D)       (None, 150, 150, 64)      36928     \n",
      "                                                                 \n",
      " block1_pool (MaxPooling2D)  (None, 75, 75, 64)        0         \n",
      "                                                                 \n",
      " block2_conv1 (Conv2D)       (None, 75, 75, 128)       73856     \n",
      "                                                                 \n",
      " block2_conv2 (Conv2D)       (None, 75, 75, 128)       147584    \n",
      "                                                                 \n",
      " block2_pool (MaxPooling2D)  (None, 37, 37, 128)       0         \n",
      "                                                                 \n",
      " block3_conv1 (Conv2D)       (None, 37, 37, 256)       295168    \n",
      "                                                                 \n",
      " block3_conv2 (Conv2D)       (None, 37, 37, 256)       590080    \n",
      "                                                                 \n",
      " block3_conv3 (Conv2D)       (None, 37, 37, 256)       590080    \n",
      "                                                                 \n",
      " block3_conv4 (Conv2D)       (None, 37, 37, 256)       590080    \n",
      "                                                                 \n",
      " block3_pool (MaxPooling2D)  (None, 18, 18, 256)       0         \n",
      "                                                                 \n",
      " block4_conv1 (Conv2D)       (None, 18, 18, 512)       1180160   \n",
      "                                                                 \n",
      " block4_conv2 (Conv2D)       (None, 18, 18, 512)       2359808   \n",
      "                                                                 \n",
      " block4_conv3 (Conv2D)       (None, 18, 18, 512)       2359808   \n",
      "                                                                 \n",
      " block4_conv4 (Conv2D)       (None, 18, 18, 512)       2359808   \n",
      "                                                                 \n",
      " block4_pool (MaxPooling2D)  (None, 9, 9, 512)         0         \n",
      "                                                                 \n",
      " block5_conv1 (Conv2D)       (None, 9, 9, 512)         2359808   \n",
      "                                                                 \n",
      " block5_conv2 (Conv2D)       (None, 9, 9, 512)         2359808   \n",
      "                                                                 \n",
      " block5_conv3 (Conv2D)       (None, 9, 9, 512)         2359808   \n",
      "                                                                 \n",
      " block5_conv4 (Conv2D)       (None, 9, 9, 512)         2359808   \n",
      "                                                                 \n",
      " block5_pool (MaxPooling2D)  (None, 4, 4, 512)         0         \n",
      "                                                                 \n",
      "=================================================================\n",
      "Total params: 20,024,384\n",
      "Trainable params: 20,024,384\n",
      "Non-trainable params: 0\n",
      "_________________________________________________________________\n"
     ]
    }
   ],
   "source": [
    "conv_base = VGG19(weights='imagenet',\n",
    "                  include_top=False,\n",
    "                  input_shape=(150, 150, 3))\n",
    "conv_base.summary()"
   ]
  },
  {
   "cell_type": "markdown",
   "metadata": {},
   "source": [
    "#### Seleccionamos las capas de esta red que queremos que se entrenen"
   ]
  },
  {
   "cell_type": "markdown",
   "metadata": {},
   "source": [
    "Para obtener mejores resultados, hacemos que todas las capas convolucionales sean entrenables."
   ]
  },
  {
   "cell_type": "code",
   "execution_count": 12,
   "metadata": {},
   "outputs": [
    {
     "name": "stdout",
     "output_type": "stream",
     "text": [
      "0 Layer input_1 not trainable\n",
      "1 Layer block1_conv1 trainable\n",
      "2 Layer block1_conv2 trainable\n",
      "3 Layer block1_pool not trainable\n",
      "4 Layer block2_conv1 trainable\n",
      "5 Layer block2_conv2 trainable\n",
      "6 Layer block2_pool not trainable\n",
      "7 Layer block3_conv1 trainable\n",
      "8 Layer block3_conv2 trainable\n",
      "9 Layer block3_conv3 trainable\n",
      "10 Layer block3_conv4 trainable\n",
      "11 Layer block3_pool not trainable\n",
      "12 Layer block4_conv1 trainable\n",
      "13 Layer block4_conv2 trainable\n",
      "14 Layer block4_conv3 trainable\n",
      "15 Layer block4_conv4 trainable\n",
      "16 Layer block4_pool not trainable\n",
      "17 Layer block5_conv1 trainable\n",
      "18 Layer block5_conv2 trainable\n",
      "19 Layer block5_conv3 trainable\n",
      "20 Layer block5_conv4 trainable\n",
      "21 Layer block5_pool not trainable\n"
     ]
    }
   ],
   "source": [
    "for idx, layer in enumerate(conv_base.layers): \n",
    "  #layer.trainable = False\n",
    "  if idx in[1,2,4,5,7,8,9,10,12,13,14,15,17,18,19,20]:\n",
    "    layer.trainable = True\n",
    "    print(str(idx) +' Layer ' + layer.name + ' trainable')\n",
    "  else:\n",
    "    layer.trainable = False\n",
    "    print(str(idx) + ' Layer ' + layer.name + ' not trainable')"
   ]
  },
  {
   "cell_type": "markdown",
   "metadata": {},
   "source": [
    "### Hacemos el modelo, con la base convolucional de la red VGG19, además de dos capas ocultas con 512 y 1024 neuronas, además de una última capa que indica la clase a la que pertenece una imagen."
   ]
  },
  {
   "cell_type": "code",
   "execution_count": 13,
   "metadata": {},
   "outputs": [],
   "source": [
    "model = models.Sequential([\n",
    "                           conv_base,\n",
    "                           Flatten(),\n",
    "                           Dense(512, activation='relu'),\n",
    "                           Dense(1024, activation='relu'),\n",
    "                           Dense(classes, activation='softmax')                    \n",
    "                          ])"
   ]
  },
  {
   "cell_type": "markdown",
   "metadata": {},
   "source": [
    "Como función de pérdida utilizamos 'categorical_crossentropy', la cual es buena para tareas de clasificación múltiple. El optimizador es el 'adam', el por defecto. Para la métrica utilizamos 'CategoricalAccuracy', la cual debería de ser de las mejores para sets de datos con muchas categorias."
   ]
  },
  {
   "cell_type": "code",
   "execution_count": 14,
   "metadata": {},
   "outputs": [
    {
     "name": "stdout",
     "output_type": "stream",
     "text": [
      "Model: \"sequential\"\n",
      "_________________________________________________________________\n",
      " Layer (type)                Output Shape              Param #   \n",
      "=================================================================\n",
      " vgg19 (Functional)          (None, 4, 4, 512)         20024384  \n",
      "                                                                 \n",
      " flatten (Flatten)           (None, 8192)              0         \n",
      "                                                                 \n",
      " dense (Dense)               (None, 512)               4194816   \n",
      "                                                                 \n",
      " dense_1 (Dense)             (None, 1024)              525312    \n",
      "                                                                 \n",
      " dense_2 (Dense)             (None, 174)               178350    \n",
      "                                                                 \n",
      "=================================================================\n",
      "Total params: 24,922,862\n",
      "Trainable params: 24,922,862\n",
      "Non-trainable params: 0\n",
      "_________________________________________________________________\n"
     ]
    }
   ],
   "source": [
    "model.compile(loss='categorical_crossentropy', optimizer='adam', metrics=tf.keras.metrics.CategoricalAccuracy())\n",
    "model.summary()"
   ]
  },
  {
   "cell_type": "code",
   "execution_count": 15,
   "metadata": {},
   "outputs": [
    {
     "data": {
      "image/svg+xml": "<svg xmlns=\"http://www.w3.org/2000/svg\" xmlns:xlink=\"http://www.w3.org/1999/xlink\" width=\"154pt\" height=\"397pt\" viewBox=\"0.00 0.00 171.00 440.00\">\n<g id=\"graph0\" class=\"graph\" transform=\"scale(0.902778 0.902778) rotate(0) translate(4 436)\">\n<title>G</title>\n<polygon fill=\"white\" stroke=\"none\" points=\"-4,4 -4,-436 167,-436 167,4 -4,4\"/>\n<!-- 1426285300464 -->\n<g id=\"node1\" class=\"node\"><title>1426285300464</title>\n<polygon fill=\"none\" stroke=\"black\" points=\"0,-395.5 0,-431.5 163,-431.5 163,-395.5 0,-395.5\"/>\n<text text-anchor=\"middle\" x=\"43\" y=\"-409.8\" font-family=\"Times New Roman,serif\" font-size=\"14.00\">vgg19_input</text>\n<polyline fill=\"none\" stroke=\"black\" points=\"86,-395.5 86,-431.5 \"/>\n<text text-anchor=\"middle\" x=\"124.5\" y=\"-409.8\" font-family=\"Times New Roman,serif\" font-size=\"14.00\">InputLayer</text>\n</g>\n<!-- 1426285266640 -->\n<g id=\"node2\" class=\"node\"><title>1426285266640</title>\n<polygon fill=\"none\" stroke=\"black\" points=\"19,-322.5 19,-358.5 144,-358.5 144,-322.5 19,-322.5\"/>\n<text text-anchor=\"middle\" x=\"44\" y=\"-336.8\" font-family=\"Times New Roman,serif\" font-size=\"14.00\">vgg19</text>\n<polyline fill=\"none\" stroke=\"black\" points=\"69,-322.5 69,-358.5 \"/>\n<text text-anchor=\"middle\" x=\"106.5\" y=\"-336.8\" font-family=\"Times New Roman,serif\" font-size=\"14.00\">Functional</text>\n</g>\n<!-- 1426285300464&#45;&gt;1426285266640 -->\n<g id=\"edge1\" class=\"edge\"><title>1426285300464-&gt;1426285266640</title>\n<path fill=\"none\" stroke=\"black\" d=\"M81.5,-395.313C81.5,-387.289 81.5,-377.547 81.5,-368.569\"/>\n<polygon fill=\"black\" stroke=\"black\" points=\"85.0001,-368.529 81.5,-358.529 78.0001,-368.529 85.0001,-368.529\"/>\n</g>\n<!-- 1426285452064 -->\n<g id=\"node3\" class=\"node\"><title>1426285452064</title>\n<polygon fill=\"none\" stroke=\"black\" points=\"29.5,-249.5 29.5,-285.5 133.5,-285.5 133.5,-249.5 29.5,-249.5\"/>\n<text text-anchor=\"middle\" x=\"54.5\" y=\"-263.8\" font-family=\"Times New Roman,serif\" font-size=\"14.00\">flatten</text>\n<polyline fill=\"none\" stroke=\"black\" points=\"79.5,-249.5 79.5,-285.5 \"/>\n<text text-anchor=\"middle\" x=\"106.5\" y=\"-263.8\" font-family=\"Times New Roman,serif\" font-size=\"14.00\">Flatten</text>\n</g>\n<!-- 1426285266640&#45;&gt;1426285452064 -->\n<g id=\"edge2\" class=\"edge\"><title>1426285266640-&gt;1426285452064</title>\n<path fill=\"none\" stroke=\"black\" d=\"M81.5,-322.313C81.5,-314.289 81.5,-304.547 81.5,-295.569\"/>\n<polygon fill=\"black\" stroke=\"black\" points=\"85.0001,-295.529 81.5,-285.529 78.0001,-295.529 85.0001,-295.529\"/>\n</g>\n<!-- 1426285449760 -->\n<g id=\"node4\" class=\"node\"><title>1426285449760</title>\n<polygon fill=\"none\" stroke=\"black\" points=\"31.5,-166.5 31.5,-212.5 131.5,-212.5 131.5,-166.5 31.5,-166.5\"/>\n<text text-anchor=\"middle\" x=\"56\" y=\"-185.8\" font-family=\"Times New Roman,serif\" font-size=\"14.00\">dense</text>\n<polyline fill=\"none\" stroke=\"black\" points=\"80.5,-166.5 80.5,-212.5 \"/>\n<text text-anchor=\"middle\" x=\"106\" y=\"-197.3\" font-family=\"Times New Roman,serif\" font-size=\"14.00\">Dense</text>\n<polyline fill=\"none\" stroke=\"black\" points=\"80.5,-189.5 131.5,-189.5 \"/>\n<text text-anchor=\"middle\" x=\"106\" y=\"-174.3\" font-family=\"Times New Roman,serif\" font-size=\"14.00\">relu</text>\n</g>\n<!-- 1426285452064&#45;&gt;1426285449760 -->\n<g id=\"edge3\" class=\"edge\"><title>1426285452064-&gt;1426285449760</title>\n<path fill=\"none\" stroke=\"black\" d=\"M81.5,-249.254C81.5,-241.363 81.5,-231.749 81.5,-222.602\"/>\n<polygon fill=\"black\" stroke=\"black\" points=\"85.0001,-222.591 81.5,-212.591 78.0001,-222.591 85.0001,-222.591\"/>\n</g>\n<!-- 1426285452688 -->\n<g id=\"node5\" class=\"node\"><title>1426285452688</title>\n<polygon fill=\"none\" stroke=\"black\" points=\"24.5,-83.5 24.5,-129.5 138.5,-129.5 138.5,-83.5 24.5,-83.5\"/>\n<text text-anchor=\"middle\" x=\"56\" y=\"-102.8\" font-family=\"Times New Roman,serif\" font-size=\"14.00\">dense_1</text>\n<polyline fill=\"none\" stroke=\"black\" points=\"87.5,-83.5 87.5,-129.5 \"/>\n<text text-anchor=\"middle\" x=\"113\" y=\"-114.3\" font-family=\"Times New Roman,serif\" font-size=\"14.00\">Dense</text>\n<polyline fill=\"none\" stroke=\"black\" points=\"87.5,-106.5 138.5,-106.5 \"/>\n<text text-anchor=\"middle\" x=\"113\" y=\"-91.3\" font-family=\"Times New Roman,serif\" font-size=\"14.00\">relu</text>\n</g>\n<!-- 1426285449760&#45;&gt;1426285452688 -->\n<g id=\"edge4\" class=\"edge\"><title>1426285449760-&gt;1426285452688</title>\n<path fill=\"none\" stroke=\"black\" d=\"M81.5,-166.366C81.5,-158.152 81.5,-148.658 81.5,-139.725\"/>\n<polygon fill=\"black\" stroke=\"black\" points=\"85.0001,-139.607 81.5,-129.607 78.0001,-139.607 85.0001,-139.607\"/>\n</g>\n<!-- 1426285301520 -->\n<g id=\"node6\" class=\"node\"><title>1426285301520</title>\n<polygon fill=\"none\" stroke=\"black\" points=\"19,-0.5 19,-46.5 144,-46.5 144,-0.5 19,-0.5\"/>\n<text text-anchor=\"middle\" x=\"50.5\" y=\"-19.8\" font-family=\"Times New Roman,serif\" font-size=\"14.00\">dense_2</text>\n<polyline fill=\"none\" stroke=\"black\" points=\"82,-0.5 82,-46.5 \"/>\n<text text-anchor=\"middle\" x=\"113\" y=\"-31.3\" font-family=\"Times New Roman,serif\" font-size=\"14.00\">Dense</text>\n<polyline fill=\"none\" stroke=\"black\" points=\"82,-23.5 144,-23.5 \"/>\n<text text-anchor=\"middle\" x=\"113\" y=\"-8.3\" font-family=\"Times New Roman,serif\" font-size=\"14.00\">softmax</text>\n</g>\n<!-- 1426285452688&#45;&gt;1426285301520 -->\n<g id=\"edge5\" class=\"edge\"><title>1426285452688-&gt;1426285301520</title>\n<path fill=\"none\" stroke=\"black\" d=\"M81.5,-83.3664C81.5,-75.1516 81.5,-65.6579 81.5,-56.7252\"/>\n<polygon fill=\"black\" stroke=\"black\" points=\"85.0001,-56.6068 81.5,-46.6068 78.0001,-56.6069 85.0001,-56.6068\"/>\n</g>\n</g>\n</svg>",
      "text/plain": [
       "<IPython.core.display.SVG object>"
      ]
     },
     "execution_count": 15,
     "metadata": {},
     "output_type": "execute_result"
    }
   ],
   "source": [
    "SVG(model_to_dot(model, dpi = 65, show_layer_activations=True, show_shapes=False).create(prog='dot', format='svg'))"
   ]
  },
  {
   "cell_type": "markdown",
   "metadata": {},
   "source": [
    "### Realizamos el entrenamiento de nuestra red"
   ]
  },
  {
   "cell_type": "markdown",
   "metadata": {},
   "source": [
    "Para el problema del desbalanceo de clases hacemos un diccionario que tiene asignados pesos a cada una de las clases. Este peso es $\\frac{1}{\\text{Cantidad de imagenes en la clase}}$. Esto en lo que nos ayudara es que dará mayor importancia a los errores con clases con menor cantidad de imagenes."
   ]
  },
  {
   "cell_type": "code",
   "execution_count": 16,
   "metadata": {},
   "outputs": [],
   "source": [
    "clases = os.listdir('final_train')\n",
    "nums = [i for i in range(len(clases))]\n",
    "peso_ind = [1/len(os.path.join(i, 'final_train' )) for i in clases]\n",
    "pesos = dict(zip(nums, peso_ind))"
   ]
  },
  {
   "cell_type": "code",
   "execution_count": 17,
   "metadata": {},
   "outputs": [
    {
     "name": "stderr",
     "output_type": "stream",
     "text": [
      "100%|██████████| 8/8 [30:09<00:00, 226.13s/epoch, loss=0.285, categorical_accuracy=0.0783, val_loss=4.57, val_categorical_accuracy=0.13] "
     ]
    },
    {
     "name": "stdout",
     "output_type": "stream",
     "text": [
      "El tiempo de entrenamiento fue de 30 minutos y 12 segundos\n"
     ]
    },
    {
     "name": "stderr",
     "output_type": "stream",
     "text": [
      "\n"
     ]
    }
   ],
   "source": [
    "start1 = time()\n",
    "history = model.fit(train_generator, steps_per_epoch=10, epochs=8, class_weight= pesos ,validation_data=validation_generator, validation_steps=5, verbose=0, callbacks=[TqdmCallback(verbose=1)])\n",
    "fin1 = time()-start1\n",
    "print(f\"El tiempo de entrenamiento fue de {math.floor(fin1/60):d} minutos y {int(fin1 % 60):d} segundos\")"
   ]
  },
  {
   "cell_type": "markdown",
   "metadata": {},
   "source": [
    "#### Observamos los resultados obtenidos"
   ]
  },
  {
   "cell_type": "code",
   "execution_count": 18,
   "metadata": {},
   "outputs": [
    {
     "data": {
      "image/png": "[encoded data removed]",
      "text/plain": [
       "<Figure size 432x288 with 1 Axes>"
      ]
     },
     "metadata": {
      "needs_background": "light"
     },
     "output_type": "display_data"
    },
    {
     "data": {
      "image/png": "[encoded data removed]",
      "text/plain": [
       "<Figure size 432x288 with 1 Axes>"
      ]
     },
     "metadata": {
      "needs_background": "light"
     },
     "output_type": "display_data"
    }
   ],
   "source": [
    "acc = history.history['categorical_accuracy']\n",
    "val_acc = history.history['val_categorical_accuracy']\n",
    "loss = history.history['loss']\n",
    "val_loss = history.history['val_loss']\n",
    "epochs = range(1, len(acc) + 1)\n",
    "plt.plot(epochs, acc, 'bo', label='Training AUC')\n",
    "plt.plot(epochs, val_acc, 'b', label='Validation AUC')\n",
    "plt.title('Training and validation Accuracy')\n",
    "plt.legend()\n",
    "plt.figure()\n",
    "plt.plot(epochs, loss, 'bo', label='Training loss')\n",
    "plt.plot(epochs, val_loss, 'b', label='Validation loss')\n",
    "plt.title('Training and validation loss (categorical_crossentropy)')\n",
    "plt.legend()\n",
    "plt.show()"
   ]
  },
  {
   "cell_type": "code",
   "execution_count": null,
   "metadata": {},
   "outputs": [],
   "source": [
    "model.save('modelo.h5')\n",
    "#model = keras.models.load_model('modelo.h5')"
   ]
  },
  {
   "cell_type": "markdown",
   "metadata": {},
   "source": [
    "Al final, arriba podemos observar los resultados obtenidos. Creemos que el validation_accuracy es mayor en el conjunto de validación debido a que en el conjunto de entrenamiento se realizo data augmentation, lo cual genera imagenes rotadas, movidas, con alguna traslación o reflejo, lo cual puede ayudar a entrenar el modelo, pero no ayuda mucho al momento de hacer la evaluación con el conjunto de entrenamiento. Además podemos observar que en el conjunto de validación, la función de pérdida va bajando, aunque la mejora no es muy notoría."
   ]
  }
 ],
 "metadata": {
  "kernelspec": {
   "display_name": "Python 3.9.7 ('base')",
   "language": "python",
   "name": "python3"
  },
  "language_info": {
   "codemirror_mode": {
    "name": "ipython",
    "version": 3
   },
   "file_extension": ".py",
   "mimetype": "text/x-python",
   "name": "python",
   "nbconvert_exporter": "python",
   "pygments_lexer": "ipython3",
   "version": "3.9.7"
  },
  "orig_nbformat": 4,
  "vscode": {
   "interpreter": {
    "hash": "6ec98608c8efd37399ebb15ce9f7b59c35afad3fb5f204628ee09569604fc972"
   }
  }
 },
 "nbformat": 4,
 "nbformat_minor": 2
}
